{
  "nbformat": 4,
  "nbformat_minor": 0,
  "metadata": {
    "colab": {
      "name": "Webscraping Image and web links.ipynb",
      "provenance": [],
      "include_colab_link": true
    },
    "kernelspec": {
      "name": "python3",
      "display_name": "Python 3"
    },
    "language_info": {
      "name": "python"
    }
  },
  "cells": [
    {
      "cell_type": "markdown",
      "metadata": {
        "id": "view-in-github",
        "colab_type": "text"
      },
      "source": [
        "<a href=\"https://colab.research.google.com/github/hamsini505/Wise-Project-ML-/blob/main/Webscraping_Image_and_web_links.ipynb\" target=\"_parent\"><img src=\"https://colab.research.google.com/assets/colab-badge.svg\" alt=\"Open In Colab\"/></a>"
      ]
    },
    {
      "cell_type": "code",
      "metadata": {
        "colab": {
          "base_uri": "https://localhost:8080/"
        },
        "id": "0pyEXY1kFcLe",
        "outputId": "6470dcf1-76ca-44e0-8473-3fc8f5eff37a"
      },
      "source": [
        "pip install selenium"
      ],
      "execution_count": null,
      "outputs": [
        {
          "output_type": "stream",
          "text": [
            "Collecting selenium\n",
            "\u001b[?25l  Downloading https://files.pythonhosted.org/packages/80/d6/4294f0b4bce4de0abf13e17190289f9d0613b0a44e5dd6a7f5ca98459853/selenium-3.141.0-py2.py3-none-any.whl (904kB)\n",
            "\r\u001b[K     |▍                               | 10kB 14.3MB/s eta 0:00:01\r\u001b[K     |▊                               | 20kB 18.2MB/s eta 0:00:01\r\u001b[K     |█                               | 30kB 22.4MB/s eta 0:00:01\r\u001b[K     |█▌                              | 40kB 25.7MB/s eta 0:00:01\r\u001b[K     |█▉                              | 51kB 28.5MB/s eta 0:00:01\r\u001b[K     |██▏                             | 61kB 30.3MB/s eta 0:00:01\r\u001b[K     |██▌                             | 71kB 31.8MB/s eta 0:00:01\r\u001b[K     |███                             | 81kB 30.1MB/s eta 0:00:01\r\u001b[K     |███▎                            | 92kB 27.0MB/s eta 0:00:01\r\u001b[K     |███▋                            | 102kB 26.7MB/s eta 0:00:01\r\u001b[K     |████                            | 112kB 26.7MB/s eta 0:00:01\r\u001b[K     |████▍                           | 122kB 26.7MB/s eta 0:00:01\r\u001b[K     |████▊                           | 133kB 26.7MB/s eta 0:00:01\r\u001b[K     |█████                           | 143kB 26.7MB/s eta 0:00:01\r\u001b[K     |█████▍                          | 153kB 26.7MB/s eta 0:00:01\r\u001b[K     |█████▉                          | 163kB 26.7MB/s eta 0:00:01\r\u001b[K     |██████▏                         | 174kB 26.7MB/s eta 0:00:01\r\u001b[K     |██████▌                         | 184kB 26.7MB/s eta 0:00:01\r\u001b[K     |██████▉                         | 194kB 26.7MB/s eta 0:00:01\r\u001b[K     |███████▎                        | 204kB 26.7MB/s eta 0:00:01\r\u001b[K     |███████▋                        | 215kB 26.7MB/s eta 0:00:01\r\u001b[K     |████████                        | 225kB 26.7MB/s eta 0:00:01\r\u001b[K     |████████▎                       | 235kB 26.7MB/s eta 0:00:01\r\u001b[K     |████████▊                       | 245kB 26.7MB/s eta 0:00:01\r\u001b[K     |█████████                       | 256kB 26.7MB/s eta 0:00:01\r\u001b[K     |█████████▍                      | 266kB 26.7MB/s eta 0:00:01\r\u001b[K     |█████████▉                      | 276kB 26.7MB/s eta 0:00:01\r\u001b[K     |██████████▏                     | 286kB 26.7MB/s eta 0:00:01\r\u001b[K     |██████████▌                     | 296kB 26.7MB/s eta 0:00:01\r\u001b[K     |██████████▉                     | 307kB 26.7MB/s eta 0:00:01\r\u001b[K     |███████████▎                    | 317kB 26.7MB/s eta 0:00:01\r\u001b[K     |███████████▋                    | 327kB 26.7MB/s eta 0:00:01\r\u001b[K     |████████████                    | 337kB 26.7MB/s eta 0:00:01\r\u001b[K     |████████████▎                   | 348kB 26.7MB/s eta 0:00:01\r\u001b[K     |████████████▊                   | 358kB 26.7MB/s eta 0:00:01\r\u001b[K     |█████████████                   | 368kB 26.7MB/s eta 0:00:01\r\u001b[K     |█████████████▍                  | 378kB 26.7MB/s eta 0:00:01\r\u001b[K     |█████████████▊                  | 389kB 26.7MB/s eta 0:00:01\r\u001b[K     |██████████████▏                 | 399kB 26.7MB/s eta 0:00:01\r\u001b[K     |██████████████▌                 | 409kB 26.7MB/s eta 0:00:01\r\u001b[K     |██████████████▉                 | 419kB 26.7MB/s eta 0:00:01\r\u001b[K     |███████████████▏                | 430kB 26.7MB/s eta 0:00:01\r\u001b[K     |███████████████▋                | 440kB 26.7MB/s eta 0:00:01\r\u001b[K     |████████████████                | 450kB 26.7MB/s eta 0:00:01\r\u001b[K     |████████████████▎               | 460kB 26.7MB/s eta 0:00:01\r\u001b[K     |████████████████▋               | 471kB 26.7MB/s eta 0:00:01\r\u001b[K     |█████████████████               | 481kB 26.7MB/s eta 0:00:01\r\u001b[K     |█████████████████▍              | 491kB 26.7MB/s eta 0:00:01\r\u001b[K     |█████████████████▊              | 501kB 26.7MB/s eta 0:00:01\r\u001b[K     |██████████████████▏             | 512kB 26.7MB/s eta 0:00:01\r\u001b[K     |██████████████████▌             | 522kB 26.7MB/s eta 0:00:01\r\u001b[K     |██████████████████▉             | 532kB 26.7MB/s eta 0:00:01\r\u001b[K     |███████████████████▏            | 542kB 26.7MB/s eta 0:00:01\r\u001b[K     |███████████████████▋            | 552kB 26.7MB/s eta 0:00:01\r\u001b[K     |████████████████████            | 563kB 26.7MB/s eta 0:00:01\r\u001b[K     |████████████████████▎           | 573kB 26.7MB/s eta 0:00:01\r\u001b[K     |████████████████████▋           | 583kB 26.7MB/s eta 0:00:01\r\u001b[K     |█████████████████████           | 593kB 26.7MB/s eta 0:00:01\r\u001b[K     |█████████████████████▍          | 604kB 26.7MB/s eta 0:00:01\r\u001b[K     |█████████████████████▊          | 614kB 26.7MB/s eta 0:00:01\r\u001b[K     |██████████████████████          | 624kB 26.7MB/s eta 0:00:01\r\u001b[K     |██████████████████████▌         | 634kB 26.7MB/s eta 0:00:01\r\u001b[K     |██████████████████████▉         | 645kB 26.7MB/s eta 0:00:01\r\u001b[K     |███████████████████████▏        | 655kB 26.7MB/s eta 0:00:01\r\u001b[K     |███████████████████████▌        | 665kB 26.7MB/s eta 0:00:01\r\u001b[K     |████████████████████████        | 675kB 26.7MB/s eta 0:00:01\r\u001b[K     |████████████████████████▎       | 686kB 26.7MB/s eta 0:00:01\r\u001b[K     |████████████████████████▋       | 696kB 26.7MB/s eta 0:00:01\r\u001b[K     |█████████████████████████       | 706kB 26.7MB/s eta 0:00:01\r\u001b[K     |█████████████████████████▍      | 716kB 26.7MB/s eta 0:00:01\r\u001b[K     |█████████████████████████▊      | 727kB 26.7MB/s eta 0:00:01\r\u001b[K     |██████████████████████████      | 737kB 26.7MB/s eta 0:00:01\r\u001b[K     |██████████████████████████▍     | 747kB 26.7MB/s eta 0:00:01\r\u001b[K     |██████████████████████████▉     | 757kB 26.7MB/s eta 0:00:01\r\u001b[K     |███████████████████████████▏    | 768kB 26.7MB/s eta 0:00:01\r\u001b[K     |███████████████████████████▌    | 778kB 26.7MB/s eta 0:00:01\r\u001b[K     |████████████████████████████    | 788kB 26.7MB/s eta 0:00:01\r\u001b[K     |████████████████████████████▎   | 798kB 26.7MB/s eta 0:00:01\r\u001b[K     |████████████████████████████▋   | 808kB 26.7MB/s eta 0:00:01\r\u001b[K     |█████████████████████████████   | 819kB 26.7MB/s eta 0:00:01\r\u001b[K     |█████████████████████████████▍  | 829kB 26.7MB/s eta 0:00:01\r\u001b[K     |█████████████████████████████▊  | 839kB 26.7MB/s eta 0:00:01\r\u001b[K     |██████████████████████████████  | 849kB 26.7MB/s eta 0:00:01\r\u001b[K     |██████████████████████████████▍ | 860kB 26.7MB/s eta 0:00:01\r\u001b[K     |██████████████████████████████▉ | 870kB 26.7MB/s eta 0:00:01\r\u001b[K     |███████████████████████████████▏| 880kB 26.7MB/s eta 0:00:01\r\u001b[K     |███████████████████████████████▌| 890kB 26.7MB/s eta 0:00:01\r\u001b[K     |███████████████████████████████▉| 901kB 26.7MB/s eta 0:00:01\r\u001b[K     |████████████████████████████████| 911kB 26.7MB/s \n",
            "\u001b[?25hRequirement already satisfied: urllib3 in /usr/local/lib/python3.7/dist-packages (from selenium) (1.24.3)\n",
            "Installing collected packages: selenium\n",
            "Successfully installed selenium-3.141.0\n"
          ],
          "name": "stdout"
        }
      ]
    },
    {
      "cell_type": "code",
      "metadata": {
        "colab": {
          "base_uri": "https://localhost:8080/"
        },
        "id": "xi1C9wO_FufF",
        "outputId": "1aaa3c5c-4822-4a37-9635-bf62743f5cfe"
      },
      "source": [
        "pip install BeautifulSoup4"
      ],
      "execution_count": null,
      "outputs": [
        {
          "output_type": "stream",
          "text": [
            "Requirement already satisfied: BeautifulSoup4 in /usr/local/lib/python3.7/dist-packages (4.6.3)\n"
          ],
          "name": "stdout"
        }
      ]
    },
    {
      "cell_type": "code",
      "metadata": {
        "colab": {
          "base_uri": "https://localhost:8080/"
        },
        "id": "7XAQm4IXGkxc",
        "outputId": "73c39953-724b-4c35-85d9-22d7b202d3a0"
      },
      "source": [
        "pip install lxml"
      ],
      "execution_count": null,
      "outputs": [
        {
          "output_type": "stream",
          "text": [
            "Requirement already satisfied: lxml in /usr/local/lib/python3.7/dist-packages (4.2.6)\n"
          ],
          "name": "stdout"
        }
      ]
    },
    {
      "cell_type": "code",
      "metadata": {
        "id": "t3nccX9JFu7T"
      },
      "source": [
        "import requests\n",
        "from bs4 import BeautifulSoup\n",
        "import pandas as pd"
      ],
      "execution_count": null,
      "outputs": []
    },
    {
      "cell_type": "code",
      "metadata": {
        "id": "RuDgsmCGGTtH"
      },
      "source": [
        "def allDishTypeLinks():\n",
        "    base_site = \"https://www.yummly.com/\"\n",
        "    r = requests.get(base_site)\n",
        "    html = r.content\n",
        "    soup = BeautifulSoup(html, 'lxml')\n",
        "    divtag = soup.find_all('div', {'class' : 'recipe-card-img-wrapper'})\n",
        "    dishTypeLinks = []\n",
        "    imageLinks = []\n",
        "    imageTag = soup.find_all('img', {'class' : 'recipe-card-img full'})\n",
        "    # print(imageTag)\n",
        "    for item in imageTag:\n",
        "        imageLinks.append(item['src'])\n",
        "    return imageLinks\n",
        "    # for item in divtag:\n",
        "    #     for a in item.find_all('a', href=True):\n",
        "    #         dishTypeLinks.append(\"https://www.jamieoliver.com\"+a['href'])\n",
        "    # return imageLinks,dishTypeLinks"
      ],
      "execution_count": null,
      "outputs": []
    },
    {
      "cell_type": "code",
      "metadata": {
        "colab": {
          "base_uri": "https://localhost:8080/",
          "height": 297
        },
        "id": "ypJmKMbRnSzU",
        "outputId": "6819c134-513b-46b4-e1fa-44236a5914cd"
      },
      "source": [
        "imageLinks = allDishTypeLinks()\n",
        "imageLinks"
      ],
      "execution_count": null,
      "outputs": [
        {
          "output_type": "error",
          "ename": "TypeError",
          "evalue": "ignored",
          "traceback": [
            "\u001b[0;31m---------------------------------------------------------------------------\u001b[0m",
            "\u001b[0;31mTypeError\u001b[0m                                 Traceback (most recent call last)",
            "\u001b[0;32m<ipython-input-5-4c6993bc973f>\u001b[0m in \u001b[0;36m<module>\u001b[0;34m()\u001b[0m\n\u001b[0;32m----> 1\u001b[0;31m \u001b[0mimageLinks\u001b[0m \u001b[0;34m=\u001b[0m \u001b[0mallDishTypeLinks\u001b[0m\u001b[0;34m(\u001b[0m\u001b[0;34m)\u001b[0m\u001b[0;34m\u001b[0m\u001b[0;34m\u001b[0m\u001b[0m\n\u001b[0m\u001b[1;32m      2\u001b[0m \u001b[0mimageLinks\u001b[0m\u001b[0;34m\u001b[0m\u001b[0;34m\u001b[0m\u001b[0m\n",
            "\u001b[0;32m<ipython-input-4-0bd0aa237bb2>\u001b[0m in \u001b[0;36mallDishTypeLinks\u001b[0;34m()\u001b[0m\n\u001b[1;32m      9\u001b[0m     \u001b[0mimageTag\u001b[0m \u001b[0;34m=\u001b[0m \u001b[0msoup\u001b[0m\u001b[0;34m.\u001b[0m\u001b[0mfind_all\u001b[0m\u001b[0;34m(\u001b[0m\u001b[0;34m'img'\u001b[0m\u001b[0;34m,\u001b[0m \u001b[0;34m{\u001b[0m\u001b[0;34m'class'\u001b[0m \u001b[0;34m:\u001b[0m \u001b[0;34m'recipe-card-img full'\u001b[0m\u001b[0;34m}\u001b[0m\u001b[0;34m)\u001b[0m\u001b[0;34m\u001b[0m\u001b[0;34m\u001b[0m\u001b[0m\n\u001b[1;32m     10\u001b[0m     \u001b[0;31m# print(imageTag)\u001b[0m\u001b[0;34m\u001b[0m\u001b[0;34m\u001b[0m\u001b[0;34m\u001b[0m\u001b[0m\n\u001b[0;32m---> 11\u001b[0;31m     \u001b[0mimageLinks\u001b[0m\u001b[0;34m.\u001b[0m\u001b[0mappend\u001b[0m\u001b[0;34m(\u001b[0m\u001b[0mimageTag\u001b[0m\u001b[0;34m[\u001b[0m\u001b[0;34m'src'\u001b[0m\u001b[0;34m]\u001b[0m\u001b[0;34m)\u001b[0m\u001b[0;34m\u001b[0m\u001b[0;34m\u001b[0m\u001b[0m\n\u001b[0m\u001b[1;32m     12\u001b[0m     \u001b[0;32mreturn\u001b[0m \u001b[0mimageLinks\u001b[0m\u001b[0;34m\u001b[0m\u001b[0;34m\u001b[0m\u001b[0m\n\u001b[1;32m     13\u001b[0m     \u001b[0;31m# for item in divtag:\u001b[0m\u001b[0;34m\u001b[0m\u001b[0;34m\u001b[0m\u001b[0;34m\u001b[0m\u001b[0m\n",
            "\u001b[0;31mTypeError\u001b[0m: list indices must be integers or slices, not str"
          ]
        }
      ]
    },
    {
      "cell_type": "code",
      "metadata": {
        "id": "jZiNEac1J5Zr",
        "colab": {
          "base_uri": "https://localhost:8080/"
        },
        "outputId": "1e8ae325-2c0f-4914-ee1f-79a03edf665a"
      },
      "source": [
        "imgLinks, recipeLinks = allDishTypeLinks()\n",
        "imgLinks"
      ],
      "execution_count": null,
      "outputs": [
        {
          "output_type": "execute_result",
          "data": {
            "text/plain": [
              "['https://img.jamieoliver.com/jamieoliver/recipe-database/105276793.jpg?tr=w-330',\n",
              " 'https://img.jamieoliver.com/jamieoliver/recipe-database/89651486.jpg?tr=w-330',\n",
              " 'https://img.jamieoliver.com/jamieoliver/recipe-database/89248537.jpg?tr=w-330',\n",
              " 'https://img.jamieoliver.com/jamieoliver/recipe-database/85128277.jpg?tr=w-330',\n",
              " 'https://img.jamieoliver.com/jamieoliver/recipe-database/82686989.jpg?tr=w-330',\n",
              " 'https://img.jamieoliver.com/jamieoliver/recipe-database/78970257.jpg?tr=w-330',\n",
              " 'https://img.jamieoliver.com/jamieoliver/recipe-database/79945535.jpg?tr=w-330',\n",
              " 'https://img.jamieoliver.com/jamieoliver/recipe-database/64503674.jpg?tr=w-330',\n",
              " 'https://img.jamieoliver.com/jamieoliver/recipe-database/63138359.jpg?tr=w-330',\n",
              " 'https://img.jamieoliver.com/jamieoliver/recipe-database/63449597.jpg?tr=w-330',\n",
              " 'https://img.jamieoliver.com/jamieoliver/recipe-database/46267287.jpg?tr=w-330',\n",
              " 'https://img.jamieoliver.com/jamieoliver/recipe-database/46129453.jpg?tr=w-330',\n",
              " 'https://img.jamieoliver.com/jamieoliver/recipe-database/46129313.jpg?tr=w-330',\n",
              " 'https://img.jamieoliver.com/jamieoliver/recipe-database/FLUdOX-9KLaBqSmRnNRU_X.jpg?tr=w-330',\n",
              " 'https://img.jamieoliver.com/jamieoliver/recipe-database/6KPZ51KNqAv9GsPOJymjV9.jpg?tr=w-330',\n",
              " 'https://img.jamieoliver.com/jamieoliver/recipe-database/BACXcJLeqgu8ykLRnnZ1Rq.jpg?tr=w-330',\n",
              " 'https://img.jamieoliver.com/jamieoliver/recipe-database/DUae2ZqIqV8BP56TPMaQNk.jpg?tr=w-330',\n",
              " 'https://img.jamieoliver.com/jamieoliver/recipe-database/46287939.jpg?tr=w-330',\n",
              " 'https://img.jamieoliver.com/jamieoliver/recipe-database/46259345.jpg?tr=w-330',\n",
              " 'https://img.jamieoliver.com/jamieoliver/recipe-database/CvpqKXG6KqBBQma0CZ-PBT.jpg?tr=w-330',\n",
              " 'https://img.jamieoliver.com/jamieoliver/recipe-database/46263941.jpg?tr=w-330',\n",
              " 'https://img.jamieoliver.com/jamieoliver/recipe-database/Fg6UsL1m4Y-BpO4yfiWqdH.jpg?tr=w-330',\n",
              " 'https://img.jamieoliver.com/jamieoliver/recipe-database/DQp8Pf7d43_BBMKgqOTB4O.jpg?tr=w-330',\n",
              " 'https://img.jamieoliver.com/jamieoliver/recipe-database/6iLdA_flKsH9yWaCHVv4mn.jpg?tr=w-330',\n",
              " 'https://img.jamieoliver.com/jamieoliver/recipe-database/46262778.jpg?tr=w-330',\n",
              " 'https://img.jamieoliver.com/jamieoliver/recipe-database/23Y4TR4AaItBwHTtLj2Iza.jpg?tr=w-330',\n",
              " 'https://img.jamieoliver.com/jamieoliver/recipe-database/5WkeQykjaus8f1pY0GSIDc.jpg?tr=w-330',\n",
              " 'https://img.jamieoliver.com/jamieoliver/recipe-database/ACiXj1oZK_CBVkWgijXv4p.jpg?tr=w-330',\n",
              " 'https://img.jamieoliver.com/jamieoliver/recipe-database/CnUjARk04FJBqc7pO-1BVO.jpg?tr=w-330',\n",
              " 'https://img.jamieoliver.com/jamieoliver/recipe-database/4SajxoGYKwgBCiY4MQ2Eh9.jpg?tr=w-330',\n",
              " 'https://img.jamieoliver.com/jamieoliver/recipe-database/FkZBWe7najTBZl8t4jO8Qn.jpg?tr=w-330',\n",
              " 'https://img.jamieoliver.com/jamieoliver/recipe-database/CtzG5KWy4pz8tHAiXnt7bD.jpg?tr=w-330',\n",
              " 'https://img.jamieoliver.com/jamieoliver/recipe-database/46262343.jpg?tr=w-330',\n",
              " 'https://img.jamieoliver.com/jamieoliver/recipe-database/7V8T8z2bqSGBx_TWyPFtpG.jpg?tr=w-330',\n",
              " 'https://img.jamieoliver.com/jamieoliver/recipe-database/46258980.jpg?tr=w-330',\n",
              " 'https://img.jamieoliver.com/jamieoliver/recipe-database/2JSuUZVHqjw8Hxu1xkzZUn.jpg?tr=w-330',\n",
              " 'https://img.jamieoliver.com/jamieoliver/recipe-database/46257761.jpg?tr=w-330',\n",
              " 'https://img.jamieoliver.com/jamieoliver/recipe-database/EePxsSJAaqzB20myppOCtn.jpg?tr=w-330',\n",
              " 'https://img.jamieoliver.com/jamieoliver/recipe-database/8x-xU1i0qUd9gVlDlWJWLa.jpg?tr=w-330',\n",
              " 'https://img.jamieoliver.com/jamieoliver/recipe-database/2ML8h8ZZqNh9Lp2z5HRtrI.jpg?tr=w-330',\n",
              " 'https://img.jamieoliver.com/jamieoliver/recipe-database/6EYwjcReqvD9Lajgy0GMA7.jpg?tr=w-330',\n",
              " 'https://img.jamieoliver.com/jamieoliver/recipe-database/4Ec7TLWsaP88DBxakFvJHK.jpg?tr=w-330',\n",
              " 'https://img.jamieoliver.com/jamieoliver/recipe-database/46261265.jpg?tr=w-330',\n",
              " 'https://img.jamieoliver.com/jamieoliver/recipe-database/46258932.jpg?tr=w-330',\n",
              " 'https://img.jamieoliver.com/jamieoliver/recipe-database/9yp4HXguaAVAukgIOCgR8k.jpg?tr=w-330',\n",
              " 'https://img.jamieoliver.com/jamieoliver/recipe-database/42lbp6gc4a9AKplF6ydlmZ.jpg?tr=w-330',\n",
              " 'https://img.jamieoliver.com/jamieoliver/recipe-database/46258363.jpg?tr=w-330',\n",
              " 'https://img.jamieoliver.com/jamieoliver/recipe-database/oldImages/large/1554_2_1441789324.jpg?tr=w-330',\n",
              " 'https://img.jamieoliver.com/jamieoliver/recipe-database/oldImages/large/1553_2_1432725629.jpg?tr=w-330',\n",
              " 'https://img.jamieoliver.com/jamieoliver/recipe-database/46487893.jpg?tr=w-330',\n",
              " 'https://img.jamieoliver.com/jamieoliver/recipe-database/oldImages/large/1340_1_1436961235.jpg?tr=w-330',\n",
              " 'https://img.jamieoliver.com/jamieoliver/recipe-database/oldImages/large/1263_29_1438676007.jpg?tr=w-330',\n",
              " 'https://img.jamieoliver.com/jamieoliver/recipe-database/oldImages/large/1058_1_1439207551.jpg?tr=w-330',\n",
              " 'https://img.jamieoliver.com/jamieoliver/recipe-database/oldImages/large/1018_1_1438866113.jpg?tr=w-330',\n",
              " 'https://img.jamieoliver.com/jamieoliver/recipe-database/oldImages/large/950_1_1439211402.jpg?tr=w-330',\n",
              " 'https://img.jamieoliver.com/jamieoliver/recipe-database/oldImages/large/943_1_1440774282.jpg?tr=w-330',\n",
              " 'https://img.jamieoliver.com/jamieoliver/recipe-database/oldImages/large/911_1_1439208219.jpg?tr=w-330',\n",
              " 'https://img.jamieoliver.com/jamieoliver/recipe-database/oldImages/large/903_1_1436802265.jpg?tr=w-330',\n",
              " 'https://img.jamieoliver.com/jamieoliver/recipe-database/105738562.jpg?tr=w-330',\n",
              " 'https://img.jamieoliver.com/jamieoliver/recipe-database/29SaW1D3qqL8y-gtuaMATK.jpg?tr=w-330',\n",
              " 'https://img.jamieoliver.com/jamieoliver/recipe-database/51137615.jpg?tr=w-330',\n",
              " 'https://img.jamieoliver.com/jamieoliver/recipe-database/oldImages/large/751_1_1436805857.jpg?tr=w-330',\n",
              " 'https://img.jamieoliver.com/jamieoliver/recipe-database/oldImages/large/749_1_1436795018.jpg?tr=w-330',\n",
              " 'https://img.jamieoliver.com/jamieoliver/recipe-database/oldImages/large/714_1_1436880941.jpg?tr=w-330',\n",
              " 'https://img.jamieoliver.com/jamieoliver/recipe-database/oldImages/large/712_36_1440760807.jpg?tr=w-330',\n",
              " 'https://img.jamieoliver.com/jamieoliver/recipe-database/oldImages/large/710_1_1439310226.jpg?tr=w-330',\n",
              " 'https://img.jamieoliver.com/jamieoliver/recipe-database/oldImages/large/618_1_1436880664.jpg?tr=w-330',\n",
              " 'https://img.jamieoliver.com/jamieoliver/recipe-database/oldImages/large/479_36_1434038869.jpg?tr=w-330',\n",
              " 'https://img.jamieoliver.com/jamieoliver/recipe-database/oldImages/large/392_1_1438702648.jpg?tr=w-330',\n",
              " 'https://img.jamieoliver.com/jamieoliver/recipe-database/oldImages/large/353_1_1349708740.jpg?tr=w-330',\n",
              " 'https://img.jamieoliver.com/jamieoliver/recipe-database/oldImages/large/343_1_1438244795.jpg?tr=w-330',\n",
              " 'https://img.jamieoliver.com/jamieoliver/recipe-database/oldImages/large/295_1_1439300685.jpg?tr=w-330',\n",
              " 'https://img.jamieoliver.com/jamieoliver/recipe-database/105131831.jpg?tr=w-330',\n",
              " 'https://img.jamieoliver.com/jamieoliver/recipe-database/oldImages/large/271_1_1434099453.jpg?tr=w-330',\n",
              " 'https://img.jamieoliver.com/jamieoliver/recipe-database/oldImages/large/270_1_1436801514.jpg?tr=w-330',\n",
              " 'https://img.jamieoliver.com/jamieoliver/recipe-database/oldImages/large/248_1_1439214064.jpg?tr=w-330',\n",
              " 'https://img.jamieoliver.com/jamieoliver/recipe-database/oldImages/large/207_1_1439915949.jpg?tr=w-330',\n",
              " 'https://img.jamieoliver.com/jamieoliver/recipe-database/oldImages/large/187_1_1439211519.jpg?tr=w-330',\n",
              " 'https://img.jamieoliver.com/jamieoliver/recipe-database/oldImages/large/157_1_1434031002.jpg?tr=w-330',\n",
              " 'https://img.jamieoliver.com/jamieoliver/recipe-database/oldImages/large/149_1_1436539801.jpg?tr=w-330',\n",
              " 'https://img.jamieoliver.com/jamieoliver/recipe-database/oldImages/large/122_1_1436535695.jpg?tr=w-330',\n",
              " 'https://img.jamieoliver.com/jamieoliver/recipe-database/oldImages/large/66_1_1439297971.jpg?tr=w-330',\n",
              " 'https://img.jamieoliver.com/jamieoliver/recipe-database/oldImages/large/60_1_1433848976.jpg?tr=w-330',\n",
              " 'https://img.jamieoliver.com/jamieoliver/recipe-database/oldImages/large/22_1_1350893711.jpg?tr=w-330',\n",
              " 'https://img.jamieoliver.com/jamieoliver/recipe-database/oldImages/large/12_1_1438935780.jpg?tr=w-330',\n",
              " 'https://img.jamieoliver.com/jamieoliver/recipe-database/oldImages/large/1_1_1434019187.jpg?tr=w-330']"
            ]
          },
          "metadata": {
            "tags": []
          },
          "execution_count": 28
        }
      ]
    },
    {
      "cell_type": "code",
      "metadata": {
        "id": "b3PpdEEfHvCp"
      },
      "source": [
        "# def allRecipeLinks():\n",
        "#   dishTypes = allDishTypeLinks()\n",
        "#   #print(len(dishTypes))\n",
        "#   recipeLinks = []\n",
        "#   for i in range(6):\n",
        "#     r = requests.get(dishTypes[i])\n",
        "#     html = r.content\n",
        "#     soup = BeautifulSoup(html,'lxml')\n",
        "#     divTag = soup.find_all('div',{'class' : 'recipe-block'})\n",
        "#     #print(divTag)\n",
        "#     for j in range(10):\n",
        "#       for a in divTag[j].find_all('a',href=True):\n",
        "#         recipeLinks.append(\"https://www.jamieoliver.com\"+a['href'])\n",
        "#   return recipeLinks"
      ],
      "execution_count": null,
      "outputs": []
    },
    {
      "cell_type": "code",
      "metadata": {
        "id": "A5QkdrZEQeFt"
      },
      "source": [
        "allIngridients = []\n",
        "titles = []\n",
        "for link in recipeLinks:\n",
        "  li = []\n",
        "  r = requests.get(link)\n",
        "  html = r.content\n",
        "  soup = BeautifulSoup(html,'lxml')\n",
        "  getTitle = soup.find('h1',{'class' : 'hidden-xs'})\n",
        "  titles.append(getTitle.contents[0])\n",
        "  getingridients = soup.find('ul', {'class' : 'ingred-list'})\n",
        "  ingridients = getingridients.find_all('li')\n",
        "  for items in ingridients:\n",
        "    for item in items.contents:\n",
        "      if len(item) != 1:\n",
        "        ch = item.strip()\n",
        "        ch = \" \".join(ch.split())\n",
        "        li.append(ch)\n",
        "  allIngridients.append(li)"
      ],
      "execution_count": null,
      "outputs": []
    },
    {
      "cell_type": "code",
      "metadata": {
        "colab": {
          "base_uri": "https://localhost:8080/",
          "height": 581
        },
        "id": "u-MV0UDzkhxU",
        "outputId": "e70a3beb-df2c-4285-801d-94e7647d8931"
      },
      "source": [
        "df = pd.DataFrame({'title':titles,'Ingridients':allIngridients,'webLink':recipeLinks, 'Images' : imgLinks}) \n",
        "df.to_csv('dataset.csv', index=False, encoding='utf-8')\n",
        "df"
      ],
      "execution_count": null,
      "outputs": [
        {
          "output_type": "execute_result",
          "data": {
            "text/html": [
              "<div>\n",
              "<style scoped>\n",
              "    .dataframe tbody tr th:only-of-type {\n",
              "        vertical-align: middle;\n",
              "    }\n",
              "\n",
              "    .dataframe tbody tr th {\n",
              "        vertical-align: top;\n",
              "    }\n",
              "\n",
              "    .dataframe thead th {\n",
              "        text-align: right;\n",
              "    }\n",
              "</style>\n",
              "<table border=\"1\" class=\"dataframe\">\n",
              "  <thead>\n",
              "    <tr style=\"text-align: right;\">\n",
              "      <th></th>\n",
              "      <th>title</th>\n",
              "      <th>Ingridients</th>\n",
              "      <th>webLink</th>\n",
              "      <th>Images</th>\n",
              "    </tr>\n",
              "  </thead>\n",
              "  <tbody>\n",
              "    <tr>\n",
              "      <th>0</th>\n",
              "      <td>Tomato base sauce</td>\n",
              "      <td>[100 g onions, 100 g leeks, 100 g celery, 100 ...</td>\n",
              "      <td>https://www.jamieoliver.com/recipes/sauce-reci...</td>\n",
              "      <td>https://img.jamieoliver.com/jamieoliver/recipe...</td>\n",
              "    </tr>\n",
              "    <tr>\n",
              "      <th>1</th>\n",
              "      <td>Vanilla custard</td>\n",
              "      <td>[1 vanilla pod, 600 ml whole milk, 4 large fre...</td>\n",
              "      <td>https://www.jamieoliver.com/recipes/egg-recipe...</td>\n",
              "      <td>https://img.jamieoliver.com/jamieoliver/recipe...</td>\n",
              "    </tr>\n",
              "    <tr>\n",
              "      <th>2</th>\n",
              "      <td>Basic tomato sauce</td>\n",
              "      <td>[1 large clove of garlic, olive oil, 1 small d...</td>\n",
              "      <td>https://www.jamieoliver.com/recipes/vegetable-...</td>\n",
              "      <td>https://img.jamieoliver.com/jamieoliver/recipe...</td>\n",
              "    </tr>\n",
              "    <tr>\n",
              "      <th>3</th>\n",
              "      <td>Mexican-style steak</td>\n",
              "      <td>[1 x 3cm thick sirloin steak , (300g), 1 Maris...</td>\n",
              "      <td>https://www.jamieoliver.com/recipes/beef-recip...</td>\n",
              "      <td>https://img.jamieoliver.com/jamieoliver/recipe...</td>\n",
              "    </tr>\n",
              "    <tr>\n",
              "      <th>4</th>\n",
              "      <td>Amba sauce</td>\n",
              "      <td>[1 ripe mango, 1 large or 2 small limes, 1 clo...</td>\n",
              "      <td>https://www.jamieoliver.com/recipes/fruit-reci...</td>\n",
              "      <td>https://img.jamieoliver.com/jamieoliver/recipe...</td>\n",
              "    </tr>\n",
              "    <tr>\n",
              "      <th>...</th>\n",
              "      <td>...</td>\n",
              "      <td>...</td>\n",
              "      <td>...</td>\n",
              "      <td>...</td>\n",
              "    </tr>\n",
              "    <tr>\n",
              "      <th>81</th>\n",
              "      <td>Beautiful bread sauce</td>\n",
              "      <td>[1 onion, 4 cloves, 2 fresh bay leaves, 1 whol...</td>\n",
              "      <td>https://www.jamieoliver.com/recipes/bread-reci...</td>\n",
              "      <td>https://img.jamieoliver.com/jamieoliver/recipe...</td>\n",
              "    </tr>\n",
              "    <tr>\n",
              "      <th>82</th>\n",
              "      <td>Bashed-up pine nut, basil and balsamic dressing</td>\n",
              "      <td>[½ clove garlic , peeled and bashed to a pulp,...</td>\n",
              "      <td>https://www.jamieoliver.com/recipes/uncategori...</td>\n",
              "      <td>https://img.jamieoliver.com/jamieoliver/recipe...</td>\n",
              "    </tr>\n",
              "    <tr>\n",
              "      <th>83</th>\n",
              "      <td>Apple &amp; cranberry sauce</td>\n",
              "      <td>[500 g cranberries , fresh cranberries or froz...</td>\n",
              "      <td>https://www.jamieoliver.com/recipes/fruit-reci...</td>\n",
              "      <td>https://img.jamieoliver.com/jamieoliver/recipe...</td>\n",
              "    </tr>\n",
              "    <tr>\n",
              "      <th>84</th>\n",
              "      <td>Aioli</td>\n",
              "      <td>[½ small clove garlic , peeled, sea salt, fres...</td>\n",
              "      <td>https://www.jamieoliver.com/recipes/eggs-recip...</td>\n",
              "      <td>https://img.jamieoliver.com/jamieoliver/recipe...</td>\n",
              "    </tr>\n",
              "    <tr>\n",
              "      <th>85</th>\n",
              "      <td>1 steak 2 sauces</td>\n",
              "      <td>[STEAK, 4 x 200 g quality sirloin or rib-eye s...</td>\n",
              "      <td>https://www.jamieoliver.com/recipes/beef-recip...</td>\n",
              "      <td>https://img.jamieoliver.com/jamieoliver/recipe...</td>\n",
              "    </tr>\n",
              "  </tbody>\n",
              "</table>\n",
              "<p>86 rows × 4 columns</p>\n",
              "</div>"
            ],
            "text/plain": [
              "                                              title  ...                                             Images\n",
              "0                                 Tomato base sauce  ...  https://img.jamieoliver.com/jamieoliver/recipe...\n",
              "1                                   Vanilla custard  ...  https://img.jamieoliver.com/jamieoliver/recipe...\n",
              "2                                Basic tomato sauce  ...  https://img.jamieoliver.com/jamieoliver/recipe...\n",
              "3                               Mexican-style steak  ...  https://img.jamieoliver.com/jamieoliver/recipe...\n",
              "4                                        Amba sauce  ...  https://img.jamieoliver.com/jamieoliver/recipe...\n",
              "..                                              ...  ...                                                ...\n",
              "81                            Beautiful bread sauce  ...  https://img.jamieoliver.com/jamieoliver/recipe...\n",
              "82  Bashed-up pine nut, basil and balsamic dressing  ...  https://img.jamieoliver.com/jamieoliver/recipe...\n",
              "83                          Apple & cranberry sauce  ...  https://img.jamieoliver.com/jamieoliver/recipe...\n",
              "84                                            Aioli  ...  https://img.jamieoliver.com/jamieoliver/recipe...\n",
              "85                                 1 steak 2 sauces  ...  https://img.jamieoliver.com/jamieoliver/recipe...\n",
              "\n",
              "[86 rows x 4 columns]"
            ]
          },
          "metadata": {
            "tags": []
          },
          "execution_count": 30
        }
      ]
    },
    {
      "cell_type": "code",
      "metadata": {
        "id": "W6YTe6nbngdq"
      },
      "source": [
        ""
      ],
      "execution_count": null,
      "outputs": []
    }
  ]
}